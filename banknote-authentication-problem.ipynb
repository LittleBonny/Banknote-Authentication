{
 "cells": [
  {
   "cell_type": "code",
   "execution_count": 1,
   "id": "b3861b1c",
   "metadata": {
    "_cell_guid": "b1076dfc-b9ad-4769-8c92-a6c4dae69d19",
    "_uuid": "8f2839f25d086af736a60e9eeb907d3b93b6e0e5",
    "execution": {
     "iopub.execute_input": "2022-08-10T22:17:23.524658Z",
     "iopub.status.busy": "2022-08-10T22:17:23.524156Z",
     "iopub.status.idle": "2022-08-10T22:17:23.544148Z",
     "shell.execute_reply": "2022-08-10T22:17:23.542974Z"
    },
    "papermill": {
     "duration": 0.027835,
     "end_time": "2022-08-10T22:17:23.547172",
     "exception": false,
     "start_time": "2022-08-10T22:17:23.519337",
     "status": "completed"
    },
    "tags": []
   },
   "outputs": [
    {
     "name": "stdout",
     "output_type": "stream",
     "text": [
      "/kaggle/input/banknote-authentication/data_banknote_authentication.csv\n"
     ]
    }
   ],
   "source": [
    "# This Python 3 environment comes with many helpful analytics libraries installed\n",
    "# It is defined by the kaggle/python Docker image: https://github.com/kaggle/docker-python\n",
    "# For example, here's several helpful packages to load\n",
    "\n",
    "import numpy as np # linear algebra\n",
    "import pandas as pd # data processing, CSV file I/O (e.g. pd.read_csv)\n",
    "\n",
    "# Input data files are available in the read-only \"../input/\" directory\n",
    "# For example, running this (by clicking run or pressing Shift+Enter) will list all files under the input directory\n",
    "\n",
    "import os\n",
    "for dirname, _, filenames in os.walk('/kaggle/input'):\n",
    "    for filename in filenames:\n",
    "        print(os.path.join(dirname, filename))\n",
    "\n",
    "# You can write up to 20GB to the current directory (/kaggle/working/) that gets preserved as output when you create a version using \"Save & Run All\" \n",
    "# You can also write temporary files to /kaggle/temp/, but they won't be saved outside of the current session"
   ]
  },
  {
   "cell_type": "code",
   "execution_count": 2,
   "id": "7b567dee",
   "metadata": {
    "execution": {
     "iopub.execute_input": "2022-08-10T22:17:23.553798Z",
     "iopub.status.busy": "2022-08-10T22:17:23.553464Z",
     "iopub.status.idle": "2022-08-10T22:17:24.813115Z",
     "shell.execute_reply": "2022-08-10T22:17:24.812008Z"
    },
    "papermill": {
     "duration": 1.26554,
     "end_time": "2022-08-10T22:17:24.815631",
     "exception": false,
     "start_time": "2022-08-10T22:17:23.550091",
     "status": "completed"
    },
    "tags": []
   },
   "outputs": [
    {
     "data": {
      "text/plain": [
       "Text(0, 0.5, 'Error')"
      ]
     },
     "execution_count": 2,
     "metadata": {},
     "output_type": "execute_result"
    },
    {
     "data": {
      "image/png": "[encoded data removed]",
      "text/plain": [
       "<Figure size 432x288 with 1 Axes>"
      ]
     },
     "metadata": {
      "needs_background": "light"
     },
     "output_type": "display_data"
    }
   ],
   "source": [
    "#------------- SLNN --------------------\n",
    "\n",
    "\n",
    "import numpy as np\n",
    "import pandas as pd\n",
    "import matplotlib.pyplot as plt\n",
    "\n",
    "\n",
    "bank=pd.read_csv(\"../input/banknote-authentication/data_banknote_authentication.csv\")\n",
    "#X=bank.drop('Class',axis=1)\n",
    "#y=bank['Class']\n",
    "X=bank.iloc[:,:-1].values # allocate the input at x\n",
    "y=bank.iloc[:,-1].values# allocate the output column at y\n",
    "#spliting data into train and test\n",
    "from sklearn.model_selection import train_test_split\n",
    "X_train, X_test, y_train, y_test = train_test_split(X, y, test_size = 0.20)\n",
    "from sklearn.model_selection import learning_curve\n",
    "\n",
    "\n",
    "#Perceptron Class\n",
    "class Perceptron(object):\n",
    "    #passing to this function the learning rate and the epoch\n",
    "    def __init__(self, learing_rate, epochs):\n",
    "        self.learing_rate = learing_rate\n",
    "        self.epochs = epochs\n",
    "#traing_data_set ''where i initialize weights in a 2D array \"\n",
    "    def train(self, X, y):\n",
    "\n",
    "            self.w_ = np.zeros(1 + X.shape[1]) #2D array\n",
    "            self.errors_ = [] #array allocates error summation\n",
    "\n",
    "            for i in range(self.epochs):\n",
    "                errors = 0 #sum error =errors\n",
    "                #this loop iterates at the two variables X,Y at the same time\n",
    "                for xi, expected in zip(X, y):\n",
    "                    # for each individual X and y data pair, update the error\n",
    "                  #  update = self.learing_rate * (expected - self.Binary_Sign(xi))\n",
    "                    delta = self.learing_rate*(expected - self.Binary_Sign(xi))\n",
    "                    #update weights\n",
    "                    self.w_[1:] += delta * xi\n",
    "                    # weight[i+1]=weight[i+1]+learing*target-activation\n",
    "                    self.w_[0] += delta\n",
    "                    #stoping\n",
    "                    errors +=(delta != 0.0)\n",
    "                    #append errors in its list\n",
    "                    self.errors_.append(errors)\n",
    "               # print('>epoch=%d, lrate=%.3f, error=%.3f' % (self.epochs, self.eta, self.errors_))\n",
    "                return self\n",
    "    #forward propagartion\n",
    "    def net_input(self, X):\n",
    "        #dot get the product of 2 arrays weights and input =X\n",
    "        # W= (input*weights) .....bias is taking as the first element in the array in each iteration\n",
    "            return np.dot(X, self.w_[1:]) + self.w_[0]\n",
    "\n",
    "    #binary sign funtion\n",
    "    def Binary_Sign(self, X):\n",
    "         return np.where(self.net_input(X) >= 0.0, 1, -1)\n",
    "\n",
    "ppn = Perceptron(epochs=50, learing_rate=0.1)\n",
    "ppn.train(X, y)\n",
    "plt.plot(range(1, len(ppn.errors_) + 1), ppn.errors_, marker='o')\n",
    "plt.xlabel('Epochs')\n",
    "plt.ylabel('Error')\n",
    "\n",
    "#bank.plot(x='Class')\n",
    "#plt.ylabel(\"error\")\n",
    "\n",
    "\n",
    "\n",
    "\n",
    "\n",
    "\n"
   ]
  },
  {
   "cell_type": "code",
   "execution_count": 3,
   "id": "09cf0b65",
   "metadata": {
    "execution": {
     "iopub.execute_input": "2022-08-10T22:17:24.822823Z",
     "iopub.status.busy": "2022-08-10T22:17:24.822005Z",
     "iopub.status.idle": "2022-08-10T22:17:46.817866Z",
     "shell.execute_reply": "2022-08-10T22:17:46.816720Z"
    },
    "papermill": {
     "duration": 22.002061,
     "end_time": "2022-08-10T22:17:46.820251",
     "exception": false,
     "start_time": "2022-08-10T22:17:24.818190",
     "status": "completed"
    },
    "tags": []
   },
   "outputs": [
    {
     "name": "stdout",
     "output_type": "stream",
     "text": [
      "[[190  11]\n",
      " [118  24]]\n"
     ]
    },
    {
     "data": {
      "image/png": "[encoded data removed]",
      "text/plain": [
       "<Figure size 432x288 with 1 Axes>"
      ]
     },
     "metadata": {
      "needs_background": "light"
     },
     "output_type": "display_data"
    },
    {
     "data": {
      "image/png": "[encoded data removed]",
      "text/plain": [
       "<Figure size 432x288 with 1 Axes>"
      ]
     },
     "metadata": {
      "needs_background": "light"
     },
     "output_type": "display_data"
    }
   ],
   "source": [
    "# Support Vector Machine (SVM)\n",
    "\n",
    "# Importing the libraries\n",
    "import numpy as np\n",
    "import matplotlib.pyplot as plt\n",
    "import pandas as pd\n",
    "\n",
    "# Importing the dataset\n",
    "dataset = pd.read_csv('../input/banknote-authentication/data_banknote_authentication.csv')\n",
    "X = dataset.iloc[:, [2, 3]].values\n",
    "y = dataset.iloc[:, -1].values\n",
    "\n",
    "# Splitting the dataset into the Training set and Test set\n",
    "from sklearn.model_selection import train_test_split\n",
    "X_train, X_test, y_train, y_test = train_test_split(X, y, test_size = 0.25, random_state = 0)\n",
    "\n",
    "# Feature Scaling\n",
    "from sklearn.preprocessing import StandardScaler\n",
    "sc = StandardScaler()\n",
    "X_train = sc.fit_transform(X_train)\n",
    "X_test = sc.transform(X_test)\n",
    "\n",
    "# Training the SVM model on the Training set\n",
    "from sklearn.svm import SVC\n",
    "classifier = SVC(kernel = 'linear', random_state = 0)\n",
    "classifier.fit(X_train, y_train)\n",
    "\n",
    "# Predicting the Test set results\n",
    "y_pred = classifier.predict(X_test)\n",
    "\n",
    "# Making the Confusion Matrix\n",
    "from sklearn.metrics import confusion_matrix\n",
    "cm = confusion_matrix(y_test, y_pred)\n",
    "print(cm)\n",
    "\n",
    "# Visualising the Training set results\n",
    "from matplotlib.colors import ListedColormap\n",
    "X_set, y_set = X_train, y_train\n",
    "X1, X2 = np.meshgrid(np.arange(start = X_set[:, 0].min() - 1, stop = X_set[:, 0].max() + 1, step = 0.01),\n",
    "                     np.arange(start = X_set[:, 1].min() - 1, stop = X_set[:, 1].max() + 1, step = 0.01))\n",
    "plt.contourf(X1, X2, classifier.predict(np.array([X1.ravel(), X2.ravel()]).T).reshape(X1.shape),\n",
    "             alpha = 0.75, cmap = ListedColormap(('red', 'green')))\n",
    "plt.xlim(X1.min(), X1.max())\n",
    "plt.ylim(X2.min(), X2.max())\n",
    "for i, j in enumerate(np.unique(y_set)):\n",
    "    plt.scatter(X_set[y_set == j, 0], X_set[y_set == j, 1],\n",
    "                c = ListedColormap(('red', 'green'))(i), label = j)\n",
    "plt.title('SVM (Training set)')\n",
    "\n",
    "plt.legend()\n",
    "plt.show()\n",
    "\n",
    "# Visualising the Test set results\n",
    "from matplotlib.colors import ListedColormap\n",
    "X_set, y_set = X_test, y_test\n",
    "X1, X2 = np.meshgrid(np.arange(start = X_set[:, 0].min() - 1, stop = X_set[:, 0].max() + 1, step = 0.01),\n",
    "                     np.arange(start = X_set[:, 1].min() - 1, stop = X_set[:, 1].max() + 1, step = 0.01))\n",
    "plt.contourf(X1, X2, classifier.predict(np.array([X1.ravel(), X2.ravel()]).T).reshape(X1.shape),\n",
    "             alpha = 0.75, cmap = ListedColormap(('red', 'green')))\n",
    "plt.xlim(X1.min(), X1.max())\n",
    "plt.ylim(X2.min(), X2.max())\n",
    "for i, j in enumerate(np.unique(y_set)):\n",
    "    plt.scatter(X_set[y_set == j, 0], X_set[y_set == j, 1],\n",
    "                c = ListedColormap(('red', 'green'))(i), label = j)\n",
    "plt.title('SVM (Test set)')\n",
    "\n",
    "plt.legend()\n",
    "plt.show()"
   ]
  }
 ],
 "metadata": {
  "kernelspec": {
   "display_name": "Python 3",
   "language": "python",
   "name": "python3"
  },
  "language_info": {
   "codemirror_mode": {
    "name": "ipython",
    "version": 3
   },
   "file_extension": ".py",
   "mimetype": "text/x-python",
   "name": "python",
   "nbconvert_exporter": "python",
   "pygments_lexer": "ipython3",
   "version": "3.7.12"
  },
  "papermill": {
   "default_parameters": {},
   "duration": 32.625537,
   "end_time": "2022-08-10T22:17:47.546488",
   "environment_variables": {},
   "exception": null,
   "input_path": "__notebook__.ipynb",
   "output_path": "__notebook__.ipynb",
   "parameters": {},
   "start_time": "2022-08-10T22:17:14.920951",
   "version": "2.3.4"
  }
 },
 "nbformat": 4,
 "nbformat_minor": 5
}
